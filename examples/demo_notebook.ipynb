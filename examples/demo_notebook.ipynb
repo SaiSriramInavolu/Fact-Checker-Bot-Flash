{
 "cells": [
  {
   "cell_type": "markdown",
   "metadata": {},
   "source": [
    "# AI Fact-Checker Bot Demo Notebook\n",
    "\n",
    "This notebook provides a basic demonstration of how to use the AI Fact-Checker Bot's core functionalities."
   ]
  },
  {
   "cell_type": "code",
   "execution_count": null,
   "metadata": {},
   "outputs": [],
   "source": [
    "from src.fact_checker import FactChecker\n",
    "from config.settings import settings\n",
    "\n",
    "# Initialize the FactChecker\n",
    "fact_checker = FactChecker(model_name=settings.LLM_MODEL, search_tool_name=settings.SEARCH_TOOL)\n",
    "\n",
    "# Example Claim\n",
    "claim = \"The Great Wall of China is visible from space with the naked eye.\"\n",
    "\n",
    "# Process the claim\n",
    "result = fact_checker.process_claim(claim)\n",
    "\n",
    "# Print the final answer\n",
    "print(\"\\n--- Final Answer ---\")\n",
    "print(result[\"final_answer\"])"
   ]
  }
 ],
 "metadata": {
  "kernelspec": {
   "display_name": "Python 3",
   "language": "python",
   "name": "python3"
  },
  "language_info": {
   "codemirror_mode": {
    "name": "ipython",
    "version": 3
   },
   "file_extension": ".py",
   "mimetype": "text/x-python",
   "name": "python",
   "nbconvert_exporter": "python",
   "pygments_lexer": "ipython3",
   "version": "3.9.7"
  }
 },
 "nbformat": 4,
 "nbformat_minor": 4
}